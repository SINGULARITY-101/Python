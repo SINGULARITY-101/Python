{
 "cells": [
  {
   "cell_type": "code",
   "execution_count": 1,
   "metadata": {},
   "outputs": [
    {
     "name": "stdout",
     "output_type": "stream",
     "text": [
      "ITS TRUE\n"
     ]
    }
   ],
   "source": [
    "if True:\n",
    "    print(\"ITS TRUE\")"
   ]
  },
  {
   "cell_type": "code",
   "execution_count": 3,
   "metadata": {},
   "outputs": [
    {
     "name": "stdout",
     "output_type": "stream",
     "text": [
      "IT IS NOT GREAETER\n"
     ]
    }
   ],
   "source": [
    "if (3>4):\n",
    "    print(\"ITS GREATER\")\n",
    "else:\n",
    "    print(\"IT IS NOT GREAETER\")"
   ]
  },
  {
   "cell_type": "code",
   "execution_count": 5,
   "metadata": {},
   "outputs": [
    {
     "name": "stdout",
     "output_type": "stream",
     "text": [
      "ITS FALSE\n"
     ]
    }
   ],
   "source": [
    "hungry= False\n",
    "if hungry:\n",
    "    print(\"ITS TRUE\")\n",
    "else:\n",
    "    print(\"ITS FALSE\")"
   ]
  },
  {
   "cell_type": "code",
   "execution_count": 1,
   "metadata": {},
   "outputs": [
    {
     "name": "stdout",
     "output_type": "stream",
     "text": [
      "CARS ARE SO COOL\n"
     ]
    }
   ],
   "source": [
    "loc=\"AUTO SHOP\"\n",
    "\n",
    "if loc==\"AUTO SHOP\":\n",
    "    print(\"CARS ARE SO COOL\")\n",
    "elif loc==\"BANK\":\n",
    "    print(\"MONEY IS COOL\")\n",
    "else:\n",
    "    print(\"I DO NOT KNOW MUCH\")"
   ]
  },
  {
   "cell_type": "code",
   "execution_count": 12,
   "metadata": {},
   "outputs": [
    {
     "name": "stdout",
     "output_type": "stream",
     "text": [
      "HELLO FRANKY\n"
     ]
    }
   ],
   "source": [
    "name= \"FRANKY\"\n",
    "\n",
    "if name==\"FRANKY\":\n",
    "    print(\"HELLO FRANKY\")\n",
    "elif name==\"SAMMY\":\n",
    "    print(\"HELLO SAMMY\")\n",
    "else:\n",
    "    print(\"THE FUCK IS YOUR NAME KID\")"
   ]
  },
  {
   "cell_type": "code",
   "execution_count": 3,
   "metadata": {},
   "outputs": [
    {
     "name": "stdout",
     "output_type": "stream",
     "text": [
      "TRUE\n"
     ]
    }
   ],
   "source": [
    "if 1==1 :\n",
    "    print(\"TRUE\")\n"
   ]
  },
  {
   "cell_type": "code",
   "execution_count": 8,
   "metadata": {},
   "outputs": [
    {
     "name": "stdout",
     "output_type": "stream",
     "text": [
      "fuck off\n"
     ]
    }
   ],
   "source": [
    "name= \"kwatr\"\n",
    "\n",
    "if(name==\"vishesh\"):\n",
    "    print(\"Hi vk\")\n",
    "elif (name==\"kwatra\"):\n",
    "    print(\"Hi kv\")\n",
    "else:\n",
    "    print(\"fuck off\")"
   ]
  },
  {
   "cell_type": "code",
   "execution_count": null,
   "metadata": {},
   "outputs": [],
   "source": []
  }
 ],
 "metadata": {
  "kernelspec": {
   "display_name": "Python 3",
   "language": "python",
   "name": "python3"
  },
  "language_info": {
   "codemirror_mode": {
    "name": "ipython",
    "version": 3
   },
   "file_extension": ".py",
   "mimetype": "text/x-python",
   "name": "python",
   "nbconvert_exporter": "python",
   "pygments_lexer": "ipython3",
   "version": "3.7.4"
  }
 },
 "nbformat": 4,
 "nbformat_minor": 2
}
